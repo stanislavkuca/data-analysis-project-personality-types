{
 "cells": [
  {
   "cell_type": "markdown",
   "id": "0f7b34f6-89ff-4d5a-af7c-8d07a8c65e67",
   "metadata": {},
   "source": [
    "# Dataset Analysis Project\n",
    "Data source: https://www.kaggle.com/datasets/rakeshkapilavai/extrovert-vs-introvert-behavior-data"
   ]
  },
  {
   "cell_type": "markdown",
   "id": "a4c64b90-9861-4981-8270-2c725e593cc2",
   "metadata": {},
   "source": [
    "## Dataset description\n",
    "The dataset contains the following columns:\n",
    "\n",
    "- Time_spent_Alone (0–11): Hours spent alone daily\n",
    "- Stage_fear (Yes/No): Indicates whether the person has stage fright\n",
    "- Social_event_attendance (0–10): Frequency of social events\n",
    "- Going_outside (0–7): Frequency of going outside\n",
    "- Drained_after_socializing (Yes/No): Feeling drained after socializing\n",
    "- Friends_circle_size (0–15): Number of close friends\n",
    "- Post_frequency (0–10): Social media post frequency\n",
    "- Personality (Extrovert/Introvert): Target variable"
   ]
  },
  {
   "cell_type": "markdown",
   "id": "fa396b45-35fa-4121-a73f-9abcfd1d125f",
   "metadata": {},
   "source": [
    "# 01 Dataset Loading"
   ]
  },
  {
   "cell_type": "code",
   "execution_count": 1,
   "id": "3839b19d-ced6-498f-83de-d20d859fe9f7",
   "metadata": {},
   "outputs": [],
   "source": [
    "import pandas as pd\n",
    "import matplotlib.pyplot as plt\n",
    "import seaborn as sns"
   ]
  },
  {
   "cell_type": "code",
   "execution_count": 2,
   "id": "c3412754-f8ce-4dfb-b75e-dc09a8a2c16c",
   "metadata": {},
   "outputs": [
    {
     "data": {
      "text/html": [
       "<div>\n",
       "<style scoped>\n",
       "    .dataframe tbody tr th:only-of-type {\n",
       "        vertical-align: middle;\n",
       "    }\n",
       "\n",
       "    .dataframe tbody tr th {\n",
       "        vertical-align: top;\n",
       "    }\n",
       "\n",
       "    .dataframe thead th {\n",
       "        text-align: right;\n",
       "    }\n",
       "</style>\n",
       "<table border=\"1\" class=\"dataframe\">\n",
       "  <thead>\n",
       "    <tr style=\"text-align: right;\">\n",
       "      <th></th>\n",
       "      <th>Time_spent_Alone</th>\n",
       "      <th>Stage_fear</th>\n",
       "      <th>Social_event_attendance</th>\n",
       "      <th>Going_outside</th>\n",
       "      <th>Drained_after_socializing</th>\n",
       "      <th>Friends_circle_size</th>\n",
       "      <th>Post_frequency</th>\n",
       "      <th>Personality</th>\n",
       "    </tr>\n",
       "  </thead>\n",
       "  <tbody>\n",
       "    <tr>\n",
       "      <th>0</th>\n",
       "      <td>4.0</td>\n",
       "      <td>No</td>\n",
       "      <td>4.0</td>\n",
       "      <td>6.0</td>\n",
       "      <td>No</td>\n",
       "      <td>13.0</td>\n",
       "      <td>5.0</td>\n",
       "      <td>Extrovert</td>\n",
       "    </tr>\n",
       "    <tr>\n",
       "      <th>1</th>\n",
       "      <td>9.0</td>\n",
       "      <td>Yes</td>\n",
       "      <td>0.0</td>\n",
       "      <td>0.0</td>\n",
       "      <td>Yes</td>\n",
       "      <td>0.0</td>\n",
       "      <td>3.0</td>\n",
       "      <td>Introvert</td>\n",
       "    </tr>\n",
       "    <tr>\n",
       "      <th>2</th>\n",
       "      <td>9.0</td>\n",
       "      <td>Yes</td>\n",
       "      <td>1.0</td>\n",
       "      <td>2.0</td>\n",
       "      <td>Yes</td>\n",
       "      <td>5.0</td>\n",
       "      <td>2.0</td>\n",
       "      <td>Introvert</td>\n",
       "    </tr>\n",
       "    <tr>\n",
       "      <th>3</th>\n",
       "      <td>0.0</td>\n",
       "      <td>No</td>\n",
       "      <td>6.0</td>\n",
       "      <td>7.0</td>\n",
       "      <td>No</td>\n",
       "      <td>14.0</td>\n",
       "      <td>8.0</td>\n",
       "      <td>Extrovert</td>\n",
       "    </tr>\n",
       "    <tr>\n",
       "      <th>4</th>\n",
       "      <td>3.0</td>\n",
       "      <td>No</td>\n",
       "      <td>9.0</td>\n",
       "      <td>4.0</td>\n",
       "      <td>No</td>\n",
       "      <td>8.0</td>\n",
       "      <td>5.0</td>\n",
       "      <td>Extrovert</td>\n",
       "    </tr>\n",
       "  </tbody>\n",
       "</table>\n",
       "</div>"
      ],
      "text/plain": [
       "   Time_spent_Alone Stage_fear  Social_event_attendance  Going_outside  \\\n",
       "0               4.0         No                      4.0            6.0   \n",
       "1               9.0        Yes                      0.0            0.0   \n",
       "2               9.0        Yes                      1.0            2.0   \n",
       "3               0.0         No                      6.0            7.0   \n",
       "4               3.0         No                      9.0            4.0   \n",
       "\n",
       "  Drained_after_socializing  Friends_circle_size  Post_frequency Personality  \n",
       "0                        No                 13.0             5.0   Extrovert  \n",
       "1                       Yes                  0.0             3.0   Introvert  \n",
       "2                       Yes                  5.0             2.0   Introvert  \n",
       "3                        No                 14.0             8.0   Extrovert  \n",
       "4                        No                  8.0             5.0   Extrovert  "
      ]
     },
     "execution_count": 2,
     "metadata": {},
     "output_type": "execute_result"
    }
   ],
   "source": [
    "df_personality = pd.read_csv(\"data/personality_dataset.csv\")\n",
    "df_personality.head()"
   ]
  },
  {
   "cell_type": "code",
   "execution_count": 3,
   "id": "a070ced1-abe8-4c18-8f40-fd68abc65c50",
   "metadata": {},
   "outputs": [
    {
     "data": {
      "text/plain": [
       "(2900, 8)"
      ]
     },
     "execution_count": 3,
     "metadata": {},
     "output_type": "execute_result"
    }
   ],
   "source": [
    "df_personality.shape"
   ]
  },
  {
   "cell_type": "code",
   "execution_count": 4,
   "id": "d39dbf40-2eab-481c-bcee-289cedf807fe",
   "metadata": {},
   "outputs": [
    {
     "data": {
      "text/plain": [
       "RangeIndex(start=0, stop=2900, step=1)"
      ]
     },
     "execution_count": 4,
     "metadata": {},
     "output_type": "execute_result"
    }
   ],
   "source": [
    "df_personality.index"
   ]
  },
  {
   "cell_type": "markdown",
   "id": "8c951deb-fcb2-44b8-85cc-bc353b7d2e00",
   "metadata": {},
   "source": [
    "# 02 Data Types"
   ]
  },
  {
   "cell_type": "code",
   "execution_count": 5,
   "id": "d4581a85-9ea7-490e-aa1d-9641d74787dd",
   "metadata": {},
   "outputs": [
    {
     "data": {
      "text/plain": [
       "float64    5\n",
       "object     3\n",
       "Name: count, dtype: int64"
      ]
     },
     "execution_count": 5,
     "metadata": {},
     "output_type": "execute_result"
    }
   ],
   "source": [
    "df_personality.dtypes.value_counts()"
   ]
  },
  {
   "cell_type": "code",
   "execution_count": 6,
   "id": "af56324c-c2cc-4333-9ca5-42abc8457524",
   "metadata": {},
   "outputs": [],
   "source": [
    "string_columns = df_personality.select_dtypes(include=\"object\").columns.to_list()\n",
    "numeric_columns = df_personality.select_dtypes(include=\"number\").columns.to_list()"
   ]
  },
  {
   "cell_type": "code",
   "execution_count": 7,
   "id": "37dcb87f-a53e-4000-b36e-92752df89ff0",
   "metadata": {},
   "outputs": [
    {
     "data": {
      "text/html": [
       "<div>\n",
       "<style scoped>\n",
       "    .dataframe tbody tr th:only-of-type {\n",
       "        vertical-align: middle;\n",
       "    }\n",
       "\n",
       "    .dataframe tbody tr th {\n",
       "        vertical-align: top;\n",
       "    }\n",
       "\n",
       "    .dataframe thead th {\n",
       "        text-align: right;\n",
       "    }\n",
       "</style>\n",
       "<table border=\"1\" class=\"dataframe\">\n",
       "  <thead>\n",
       "    <tr style=\"text-align: right;\">\n",
       "      <th></th>\n",
       "      <th>Time_spent_Alone</th>\n",
       "      <th>Social_event_attendance</th>\n",
       "      <th>Going_outside</th>\n",
       "      <th>Friends_circle_size</th>\n",
       "      <th>Post_frequency</th>\n",
       "    </tr>\n",
       "  </thead>\n",
       "  <tbody>\n",
       "    <tr>\n",
       "      <th>0</th>\n",
       "      <td>4.0</td>\n",
       "      <td>4.0</td>\n",
       "      <td>6.0</td>\n",
       "      <td>13.0</td>\n",
       "      <td>5.0</td>\n",
       "    </tr>\n",
       "    <tr>\n",
       "      <th>1</th>\n",
       "      <td>9.0</td>\n",
       "      <td>0.0</td>\n",
       "      <td>0.0</td>\n",
       "      <td>0.0</td>\n",
       "      <td>3.0</td>\n",
       "    </tr>\n",
       "    <tr>\n",
       "      <th>2</th>\n",
       "      <td>9.0</td>\n",
       "      <td>1.0</td>\n",
       "      <td>2.0</td>\n",
       "      <td>5.0</td>\n",
       "      <td>2.0</td>\n",
       "    </tr>\n",
       "    <tr>\n",
       "      <th>3</th>\n",
       "      <td>0.0</td>\n",
       "      <td>6.0</td>\n",
       "      <td>7.0</td>\n",
       "      <td>14.0</td>\n",
       "      <td>8.0</td>\n",
       "    </tr>\n",
       "    <tr>\n",
       "      <th>4</th>\n",
       "      <td>3.0</td>\n",
       "      <td>9.0</td>\n",
       "      <td>4.0</td>\n",
       "      <td>8.0</td>\n",
       "      <td>5.0</td>\n",
       "    </tr>\n",
       "  </tbody>\n",
       "</table>\n",
       "</div>"
      ],
      "text/plain": [
       "   Time_spent_Alone  Social_event_attendance  Going_outside  \\\n",
       "0               4.0                      4.0            6.0   \n",
       "1               9.0                      0.0            0.0   \n",
       "2               9.0                      1.0            2.0   \n",
       "3               0.0                      6.0            7.0   \n",
       "4               3.0                      9.0            4.0   \n",
       "\n",
       "   Friends_circle_size  Post_frequency  \n",
       "0                 13.0             5.0  \n",
       "1                  0.0             3.0  \n",
       "2                  5.0             2.0  \n",
       "3                 14.0             8.0  \n",
       "4                  8.0             5.0  "
      ]
     },
     "execution_count": 7,
     "metadata": {},
     "output_type": "execute_result"
    }
   ],
   "source": [
    "df_personality.loc[:, numeric_columns].head()"
   ]
  },
  {
   "cell_type": "code",
   "execution_count": 8,
   "id": "89df45e2-61e2-4dbf-b018-aa48546b881f",
   "metadata": {},
   "outputs": [
    {
     "data": {
      "text/html": [
       "<div>\n",
       "<style scoped>\n",
       "    .dataframe tbody tr th:only-of-type {\n",
       "        vertical-align: middle;\n",
       "    }\n",
       "\n",
       "    .dataframe tbody tr th {\n",
       "        vertical-align: top;\n",
       "    }\n",
       "\n",
       "    .dataframe thead th {\n",
       "        text-align: right;\n",
       "    }\n",
       "</style>\n",
       "<table border=\"1\" class=\"dataframe\">\n",
       "  <thead>\n",
       "    <tr style=\"text-align: right;\">\n",
       "      <th></th>\n",
       "      <th>Stage_fear</th>\n",
       "      <th>Drained_after_socializing</th>\n",
       "      <th>Personality</th>\n",
       "    </tr>\n",
       "  </thead>\n",
       "  <tbody>\n",
       "    <tr>\n",
       "      <th>0</th>\n",
       "      <td>No</td>\n",
       "      <td>No</td>\n",
       "      <td>Extrovert</td>\n",
       "    </tr>\n",
       "    <tr>\n",
       "      <th>1</th>\n",
       "      <td>Yes</td>\n",
       "      <td>Yes</td>\n",
       "      <td>Introvert</td>\n",
       "    </tr>\n",
       "    <tr>\n",
       "      <th>2</th>\n",
       "      <td>Yes</td>\n",
       "      <td>Yes</td>\n",
       "      <td>Introvert</td>\n",
       "    </tr>\n",
       "    <tr>\n",
       "      <th>3</th>\n",
       "      <td>No</td>\n",
       "      <td>No</td>\n",
       "      <td>Extrovert</td>\n",
       "    </tr>\n",
       "    <tr>\n",
       "      <th>4</th>\n",
       "      <td>No</td>\n",
       "      <td>No</td>\n",
       "      <td>Extrovert</td>\n",
       "    </tr>\n",
       "  </tbody>\n",
       "</table>\n",
       "</div>"
      ],
      "text/plain": [
       "  Stage_fear Drained_after_socializing Personality\n",
       "0         No                        No   Extrovert\n",
       "1        Yes                       Yes   Introvert\n",
       "2        Yes                       Yes   Introvert\n",
       "3         No                        No   Extrovert\n",
       "4         No                        No   Extrovert"
      ]
     },
     "execution_count": 8,
     "metadata": {},
     "output_type": "execute_result"
    }
   ],
   "source": [
    "df_personality.loc[:, string_columns].head()"
   ]
  },
  {
   "cell_type": "markdown",
   "id": "55508261-cafe-4a47-9333-4eedbc7fedb6",
   "metadata": {},
   "source": [
    "## 03 NaN Analysis"
   ]
  },
  {
   "cell_type": "code",
   "execution_count": 9,
   "id": "08a11c59-e240-4808-8254-0876490746ae",
   "metadata": {},
   "outputs": [
    {
     "data": {
      "text/html": [
       "<div>\n",
       "<style scoped>\n",
       "    .dataframe tbody tr th:only-of-type {\n",
       "        vertical-align: middle;\n",
       "    }\n",
       "\n",
       "    .dataframe tbody tr th {\n",
       "        vertical-align: top;\n",
       "    }\n",
       "\n",
       "    .dataframe thead th {\n",
       "        text-align: right;\n",
       "    }\n",
       "</style>\n",
       "<table border=\"1\" class=\"dataframe\">\n",
       "  <thead>\n",
       "    <tr style=\"text-align: right;\">\n",
       "      <th></th>\n",
       "      <th>counts</th>\n",
       "      <th>percentage</th>\n",
       "    </tr>\n",
       "  </thead>\n",
       "  <tbody>\n",
       "    <tr>\n",
       "      <th>Friends_circle_size</th>\n",
       "      <td>77</td>\n",
       "      <td>2.655172</td>\n",
       "    </tr>\n",
       "    <tr>\n",
       "      <th>Stage_fear</th>\n",
       "      <td>73</td>\n",
       "      <td>2.517241</td>\n",
       "    </tr>\n",
       "    <tr>\n",
       "      <th>Going_outside</th>\n",
       "      <td>66</td>\n",
       "      <td>2.275862</td>\n",
       "    </tr>\n",
       "    <tr>\n",
       "      <th>Post_frequency</th>\n",
       "      <td>65</td>\n",
       "      <td>2.241379</td>\n",
       "    </tr>\n",
       "    <tr>\n",
       "      <th>Time_spent_Alone</th>\n",
       "      <td>63</td>\n",
       "      <td>2.172414</td>\n",
       "    </tr>\n",
       "    <tr>\n",
       "      <th>Social_event_attendance</th>\n",
       "      <td>62</td>\n",
       "      <td>2.137931</td>\n",
       "    </tr>\n",
       "    <tr>\n",
       "      <th>Drained_after_socializing</th>\n",
       "      <td>52</td>\n",
       "      <td>1.793103</td>\n",
       "    </tr>\n",
       "  </tbody>\n",
       "</table>\n",
       "</div>"
      ],
      "text/plain": [
       "                           counts  percentage\n",
       "Friends_circle_size            77    2.655172\n",
       "Stage_fear                     73    2.517241\n",
       "Going_outside                  66    2.275862\n",
       "Post_frequency                 65    2.241379\n",
       "Time_spent_Alone               63    2.172414\n",
       "Social_event_attendance        62    2.137931\n",
       "Drained_after_socializing      52    1.793103"
      ]
     },
     "execution_count": 9,
     "metadata": {},
     "output_type": "execute_result"
    }
   ],
   "source": [
    "nan_counts = df_personality.isna().sum()\n",
    "nan_counts_sorted = nan_counts.loc[nan_counts > 0].sort_values(ascending=False).to_frame(name='counts')\n",
    "nan_counts_sorted['percentage'] = (nan_counts_sorted * 100) / df_personality.shape[0]\n",
    "nan_counts_sorted"
   ]
  },
  {
   "cell_type": "markdown",
   "id": "53b0c412-d0ed-4fa4-b4cb-63dc4fe194fe",
   "metadata": {},
   "source": [
    "### 03.1 NaN replacements numeric"
   ]
  },
  {
   "cell_type": "code",
   "execution_count": 10,
   "id": "a5532e00-de72-4895-8a1a-33aae0be2949",
   "metadata": {},
   "outputs": [],
   "source": [
    "df_clean = df_personality.copy()\n",
    "\n",
    "df_clean[string_columns] = (\n",
    "    df_clean\n",
    "    .groupby('Personality')[string_columns]\n",
    "    .transform(lambda x: x.fillna(x.mode().iloc[0] if not x.mode().empty else None))\n",
    ")\n",
    "\n",
    "df_clean[numeric_columns] = (\n",
    "    df_clean\n",
    "    .groupby('Personality')[numeric_columns]\n",
    "    .transform(lambda x: x.fillna(x.median()))\n",
    ")"
   ]
  },
  {
   "cell_type": "code",
   "execution_count": 11,
   "id": "5ce55569-f58e-44af-a038-68881926ada1",
   "metadata": {},
   "outputs": [
    {
     "data": {
      "text/plain": [
       "Time_spent_Alone             0\n",
       "Stage_fear                   0\n",
       "Social_event_attendance      0\n",
       "Going_outside                0\n",
       "Drained_after_socializing    0\n",
       "Friends_circle_size          0\n",
       "Post_frequency               0\n",
       "Personality                  0\n",
       "dtype: int64"
      ]
     },
     "execution_count": 11,
     "metadata": {},
     "output_type": "execute_result"
    }
   ],
   "source": [
    "df_clean.isna().sum()"
   ]
  },
  {
   "cell_type": "markdown",
   "id": "52666c00-264d-4ecc-aa17-b83021baa2de",
   "metadata": {},
   "source": [
    "# 04 General Analysis"
   ]
  },
  {
   "cell_type": "code",
   "execution_count": 12,
   "id": "df3f821d-e8f4-42c6-b948-d31f938afd4e",
   "metadata": {},
   "outputs": [
    {
     "data": {
      "text/html": [
       "<div>\n",
       "<style scoped>\n",
       "    .dataframe tbody tr th:only-of-type {\n",
       "        vertical-align: middle;\n",
       "    }\n",
       "\n",
       "    .dataframe tbody tr th {\n",
       "        vertical-align: top;\n",
       "    }\n",
       "\n",
       "    .dataframe thead th {\n",
       "        text-align: right;\n",
       "    }\n",
       "</style>\n",
       "<table border=\"1\" class=\"dataframe\">\n",
       "  <thead>\n",
       "    <tr style=\"text-align: right;\">\n",
       "      <th></th>\n",
       "      <th>Time_spent_Alone</th>\n",
       "      <th>Social_event_attendance</th>\n",
       "      <th>Going_outside</th>\n",
       "      <th>Friends_circle_size</th>\n",
       "      <th>Post_frequency</th>\n",
       "    </tr>\n",
       "  </thead>\n",
       "  <tbody>\n",
       "    <tr>\n",
       "      <th>count</th>\n",
       "      <td>2837.000000</td>\n",
       "      <td>2838.000000</td>\n",
       "      <td>2834.000000</td>\n",
       "      <td>2823.000000</td>\n",
       "      <td>2835.000000</td>\n",
       "    </tr>\n",
       "    <tr>\n",
       "      <th>mean</th>\n",
       "      <td>4.505816</td>\n",
       "      <td>3.963354</td>\n",
       "      <td>3.000000</td>\n",
       "      <td>6.268863</td>\n",
       "      <td>3.564727</td>\n",
       "    </tr>\n",
       "    <tr>\n",
       "      <th>std</th>\n",
       "      <td>3.479192</td>\n",
       "      <td>2.903827</td>\n",
       "      <td>2.247327</td>\n",
       "      <td>4.289693</td>\n",
       "      <td>2.926582</td>\n",
       "    </tr>\n",
       "    <tr>\n",
       "      <th>min</th>\n",
       "      <td>0.000000</td>\n",
       "      <td>0.000000</td>\n",
       "      <td>0.000000</td>\n",
       "      <td>0.000000</td>\n",
       "      <td>0.000000</td>\n",
       "    </tr>\n",
       "    <tr>\n",
       "      <th>25%</th>\n",
       "      <td>2.000000</td>\n",
       "      <td>2.000000</td>\n",
       "      <td>1.000000</td>\n",
       "      <td>3.000000</td>\n",
       "      <td>1.000000</td>\n",
       "    </tr>\n",
       "    <tr>\n",
       "      <th>50%</th>\n",
       "      <td>4.000000</td>\n",
       "      <td>3.000000</td>\n",
       "      <td>3.000000</td>\n",
       "      <td>5.000000</td>\n",
       "      <td>3.000000</td>\n",
       "    </tr>\n",
       "    <tr>\n",
       "      <th>75%</th>\n",
       "      <td>8.000000</td>\n",
       "      <td>6.000000</td>\n",
       "      <td>5.000000</td>\n",
       "      <td>10.000000</td>\n",
       "      <td>6.000000</td>\n",
       "    </tr>\n",
       "    <tr>\n",
       "      <th>max</th>\n",
       "      <td>11.000000</td>\n",
       "      <td>10.000000</td>\n",
       "      <td>7.000000</td>\n",
       "      <td>15.000000</td>\n",
       "      <td>10.000000</td>\n",
       "    </tr>\n",
       "  </tbody>\n",
       "</table>\n",
       "</div>"
      ],
      "text/plain": [
       "       Time_spent_Alone  Social_event_attendance  Going_outside  \\\n",
       "count       2837.000000              2838.000000    2834.000000   \n",
       "mean           4.505816                 3.963354       3.000000   \n",
       "std            3.479192                 2.903827       2.247327   \n",
       "min            0.000000                 0.000000       0.000000   \n",
       "25%            2.000000                 2.000000       1.000000   \n",
       "50%            4.000000                 3.000000       3.000000   \n",
       "75%            8.000000                 6.000000       5.000000   \n",
       "max           11.000000                10.000000       7.000000   \n",
       "\n",
       "       Friends_circle_size  Post_frequency  \n",
       "count          2823.000000     2835.000000  \n",
       "mean              6.268863        3.564727  \n",
       "std               4.289693        2.926582  \n",
       "min               0.000000        0.000000  \n",
       "25%               3.000000        1.000000  \n",
       "50%               5.000000        3.000000  \n",
       "75%              10.000000        6.000000  \n",
       "max              15.000000       10.000000  "
      ]
     },
     "execution_count": 12,
     "metadata": {},
     "output_type": "execute_result"
    }
   ],
   "source": [
    "df_personality.loc[:, numeric_columns].describe()"
   ]
  },
  {
   "cell_type": "markdown",
   "id": "332b315a-445d-4bd8-8f7f-1d577c177d99",
   "metadata": {},
   "source": [
    "Conclusion: "
   ]
  },
  {
   "cell_type": "code",
   "execution_count": 13,
   "id": "592bb3d0-b7bc-4d3d-82e9-d84626a9ce45",
   "metadata": {},
   "outputs": [
    {
     "data": {
      "text/html": [
       "<div>\n",
       "<style scoped>\n",
       "    .dataframe tbody tr th:only-of-type {\n",
       "        vertical-align: middle;\n",
       "    }\n",
       "\n",
       "    .dataframe tbody tr th {\n",
       "        vertical-align: top;\n",
       "    }\n",
       "\n",
       "    .dataframe thead th {\n",
       "        text-align: right;\n",
       "    }\n",
       "</style>\n",
       "<table border=\"1\" class=\"dataframe\">\n",
       "  <thead>\n",
       "    <tr style=\"text-align: right;\">\n",
       "      <th></th>\n",
       "      <th>Stage_fear</th>\n",
       "      <th>Drained_after_socializing</th>\n",
       "      <th>Personality</th>\n",
       "    </tr>\n",
       "  </thead>\n",
       "  <tbody>\n",
       "    <tr>\n",
       "      <th>count</th>\n",
       "      <td>2827</td>\n",
       "      <td>2848</td>\n",
       "      <td>2900</td>\n",
       "    </tr>\n",
       "    <tr>\n",
       "      <th>unique</th>\n",
       "      <td>2</td>\n",
       "      <td>2</td>\n",
       "      <td>2</td>\n",
       "    </tr>\n",
       "    <tr>\n",
       "      <th>top</th>\n",
       "      <td>No</td>\n",
       "      <td>No</td>\n",
       "      <td>Extrovert</td>\n",
       "    </tr>\n",
       "    <tr>\n",
       "      <th>freq</th>\n",
       "      <td>1417</td>\n",
       "      <td>1441</td>\n",
       "      <td>1491</td>\n",
       "    </tr>\n",
       "  </tbody>\n",
       "</table>\n",
       "</div>"
      ],
      "text/plain": [
       "       Stage_fear Drained_after_socializing Personality\n",
       "count        2827                      2848        2900\n",
       "unique          2                         2           2\n",
       "top            No                        No   Extrovert\n",
       "freq         1417                      1441        1491"
      ]
     },
     "execution_count": 13,
     "metadata": {},
     "output_type": "execute_result"
    }
   ],
   "source": [
    "df_personality.loc[:, string_columns].describe()"
   ]
  },
  {
   "cell_type": "markdown",
   "id": "75a1996b-9df8-4884-88a2-0825fb25d1fe",
   "metadata": {},
   "source": [
    "# 05 Target Column Analysis"
   ]
  },
  {
   "cell_type": "markdown",
   "id": "f8f4e5a7-33b4-4151-b024-2b50cd593275",
   "metadata": {},
   "source": [
    "## 05.1 Correlation Analysis"
   ]
  },
  {
   "cell_type": "code",
   "execution_count": 14,
   "id": "dcd48c84-d237-4964-992a-e2a519e8a40d",
   "metadata": {},
   "outputs": [
    {
     "data": {
      "text/plain": [
       "Friends_circle_size        1.000000\n",
       "Going_outside              0.739972\n",
       "Social_event_attendance    0.736693\n",
       "Post_frequency             0.710509\n",
       "Time_spent_Alone          -0.718409\n",
       "Name: Friends_circle_size, dtype: float64"
      ]
     },
     "execution_count": 14,
     "metadata": {},
     "output_type": "execute_result"
    }
   ],
   "source": [
    "df_clean = df_clean.loc[:, numeric_columns]\n",
    "df_clean.corr()[\"Friends_circle_size\"].sort_values(ascending=False)"
   ]
  },
  {
   "cell_type": "code",
   "execution_count": 15,
   "id": "3c93adc2-faf0-4ae7-a1e4-3bbcc46cfd71",
   "metadata": {},
   "outputs": [],
   "source": [
    "corr_matrix_spearman = df_clean.corr(method='spearman')"
   ]
  },
  {
   "cell_type": "code",
   "execution_count": 16,
   "id": "afb11472-94d5-450d-83b6-c84134c73b9b",
   "metadata": {},
   "outputs": [
    {
     "data": {
      "text/plain": [
       "<function matplotlib.pyplot.show(close=None, block=None)>"
      ]
     },
     "execution_count": 16,
     "metadata": {},
     "output_type": "execute_result"
    },
    {
     "data": {
      "image/png": "[encoded data removed]",
      "text/plain": [
       "<Figure size 1000x800 with 2 Axes>"
      ]
     },
     "metadata": {},
     "output_type": "display_data"
    }
   ],
   "source": [
    "plt.figure(figsize=(10,8))\n",
    "sns.heatmap(corr_matrix_spearman, annot=True, cmap='coolwarm', fmt='.2f')\n",
    "plt.xticks(rotation=45)\n",
    "plt.show"
   ]
  },
  {
   "cell_type": "markdown",
   "id": "f44581a3-3bf0-4ca3-9cf6-2e4da9619f1c",
   "metadata": {},
   "source": [
    "## 05.2 Personality corellation to Friends_circle_size"
   ]
  },
  {
   "cell_type": "code",
   "execution_count": 17,
   "id": "63858031-9ba8-4bd4-9c6c-466351869dda",
   "metadata": {},
   "outputs": [
    {
     "data": {
      "text/plain": [
       "<Axes: xlabel='Personality', ylabel='Friends_circle_size'>"
      ]
     },
     "execution_count": 17,
     "metadata": {},
     "output_type": "execute_result"
    },
    {
     "data": {
      "image/png": "[encoded data removed]",
      "text/plain": [
       "<Figure size 640x480 with 1 Axes>"
      ]
     },
     "metadata": {},
     "output_type": "display_data"
    }
   ],
   "source": [
    "sns.boxplot(data=df_personality, x=\"Personality\", y=\"Friends_circle_size\")"
   ]
  },
  {
   "cell_type": "code",
   "execution_count": 18,
   "id": "79bc1ab8-fed4-49ec-93d6-e3da0d324053",
   "metadata": {},
   "outputs": [
    {
     "data": {
      "text/plain": [
       "(1409, 8)"
      ]
     },
     "execution_count": 18,
     "metadata": {},
     "output_type": "execute_result"
    }
   ],
   "source": [
    "introverts_only = df_personality[df_personality['Personality'] == 'Introvert']\n",
    "introverts_only.shape"
   ]
  },
  {
   "cell_type": "code",
   "execution_count": 19,
   "id": "5e83f889-c3bf-45c1-92fb-81111cddea61",
   "metadata": {
    "scrolled": true
   },
   "outputs": [
    {
     "data": {
      "text/plain": [
       "(76, 8)"
      ]
     },
     "execution_count": 19,
     "metadata": {},
     "output_type": "execute_result"
    }
   ],
   "source": [
    "introvert_outliners = df_personality[(df_personality['Friends_circle_size'] >= 8) & (df_personality['Personality'] == 'Introvert')]\n",
    "introvert_outliners.shape"
   ]
  },
  {
   "cell_type": "markdown",
   "id": "c1492aa3-caeb-4552-bac1-4cd9b647f43f",
   "metadata": {},
   "source": [
    "Conclusion: Out of 1409 introverts 76 have Friends circle size above 8."
   ]
  },
  {
   "cell_type": "markdown",
   "id": "8d8a8d9a-b4df-4d1f-b58e-b358d99fdcea",
   "metadata": {},
   "source": [
    "## 05.3 Time_spent_Alone correlation to Personality"
   ]
  },
  {
   "cell_type": "code",
   "execution_count": 20,
   "id": "433661f6-0ba7-45da-8eec-6daf652b60c7",
   "metadata": {},
   "outputs": [
    {
     "data": {
      "text/plain": [
       "<Axes: xlabel='Personality', ylabel='Time_spent_Alone'>"
      ]
     },
     "execution_count": 20,
     "metadata": {},
     "output_type": "execute_result"
    },
    {
     "data": {
      "image/png": "[encoded data removed]",
      "text/plain": [
       "<Figure size 640x480 with 1 Axes>"
      ]
     },
     "metadata": {},
     "output_type": "display_data"
    }
   ],
   "source": [
    "sns.boxplot(data=df_personality, x='Personality', y='Time_spent_Alone')"
   ]
  },
  {
   "cell_type": "markdown",
   "id": "b936ca41-808f-4d46-88fe-1534f9b549a3",
   "metadata": {},
   "source": [
    "Conclusion: Introverts tend to spend more time alone than extroverts and have a larger spread in their time spent alone, which matches the expected behavior pattern."
   ]
  },
  {
   "cell_type": "markdown",
   "id": "52f2adbd-0e56-4b6c-806e-57e312582054",
   "metadata": {},
   "source": [
    "## 05.4 Friends_circle_size correlation to Social_event_attendance"
   ]
  },
  {
   "cell_type": "code",
   "execution_count": 21,
   "id": "9dca7e60-db61-4f22-9a61-a444f15f0bd7",
   "metadata": {},
   "outputs": [
    {
     "data": {
      "text/plain": [
       "<Axes: xlabel='Friends_circle_size', ylabel='Social_event_attendance'>"
      ]
     },
     "execution_count": 21,
     "metadata": {},
     "output_type": "execute_result"
    },
    {
     "data": {
      "image/png": "[encoded data removed]",
      "text/plain": [
       "<Figure size 640x480 with 1 Axes>"
      ]
     },
     "metadata": {},
     "output_type": "display_data"
    }
   ],
   "source": [
    "sns.scatterplot(data=df_personality, x='Friends_circle_size', y='Social_event_attendance', hue='Personality')"
   ]
  },
  {
   "cell_type": "markdown",
   "id": "f7b171bb-603e-4ed8-abe6-74c9ea79e44e",
   "metadata": {},
   "source": [
    "Conclusion: Extroverts tend to be more socially active and have larger social circles than introverts."
   ]
  },
  {
   "cell_type": "markdown",
   "id": "38cef653-bff2-4791-b62c-ed96acc8551e",
   "metadata": {},
   "source": [
    "## 05.5 Post_frequency correlation to Personality"
   ]
  },
  {
   "cell_type": "code",
   "execution_count": 22,
   "id": "34f87499-0097-4aab-b84f-a7f8a582680d",
   "metadata": {},
   "outputs": [
    {
     "data": {
      "text/plain": [
       "<Axes: xlabel='Post_frequency', ylabel='Count'>"
      ]
     },
     "execution_count": 22,
     "metadata": {},
     "output_type": "execute_result"
    },
    {
     "data": {
      "image/png": "[encoded data removed]",
      "text/plain": [
       "<Figure size 640x480 with 1 Axes>"
      ]
     },
     "metadata": {},
     "output_type": "display_data"
    }
   ],
   "source": [
    "sns.histplot(data=df_personality, x='Post_frequency', hue='Personality')"
   ]
  },
  {
   "cell_type": "markdown",
   "id": "8c7ce727-c378-4aca-82ef-4b186620e211",
   "metadata": {},
   "source": [
    "Conclusion: Most introverts post infrequently, while extroverts show a broader and more evenly distributed posting frequency that extends beyond the range typical for introverts."
   ]
  }
 ],
 "metadata": {
  "kernelspec": {
   "display_name": "Python 3 (ipykernel)",
   "language": "python",
   "name": "python3"
  },
  "language_info": {
   "codemirror_mode": {
    "name": "ipython",
    "version": 3
   },
   "file_extension": ".py",
   "mimetype": "text/x-python",
   "name": "python",
   "nbconvert_exporter": "python",
   "pygments_lexer": "ipython3",
   "version": "3.12.3"
  }
 },
 "nbformat": 4,
 "nbformat_minor": 5
}
